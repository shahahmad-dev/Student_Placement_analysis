{
 "cells": [
  {
   "cell_type": "markdown",
   "id": "d8b05e52",
   "metadata": {},
   "source": [
    "# 📊 Placement Data of 1000 Students\n",
    "\n",
    "This notebook explores a synthetic dataset of 1000 students, including details like CGPA, number of internships, placement status, and salary offered. It's useful for data analysis and machine learning practice.\n"
   ]
  },
  {
   "cell_type": "code",
   "execution_count": 5,
   "id": "854c5110",
   "metadata": {},
   "outputs": [],
   "source": [
    "import pandas as pd\n",
    "import numpy as np\n",
    "import matplotlib.pyplot as plt\n",
    "import seaborn as sns\n",
    "\n",
    "# Set default style\n",
    "sns.set(style='whitegrid')\n"
   ]
  },
  {
   "cell_type": "markdown",
   "id": "d5d4d1a4",
   "metadata": {},
   "source": [
    "## 🔍 Load and Preview the Dataset\n",
    "\n",
    "We'll load the CSV file and take a quick look at the first few rows to understand the structure.\n"
   ]
  },
  {
   "cell_type": "code",
   "execution_count": 6,
   "id": "e6d26460",
   "metadata": {},
   "outputs": [
    {
     "data": {
      "text/html": [
       "<div>\n",
       "<style scoped>\n",
       "    .dataframe tbody tr th:only-of-type {\n",
       "        vertical-align: middle;\n",
       "    }\n",
       "\n",
       "    .dataframe tbody tr th {\n",
       "        vertical-align: top;\n",
       "    }\n",
       "\n",
       "    .dataframe thead th {\n",
       "        text-align: right;\n",
       "    }\n",
       "</style>\n",
       "<table border=\"1\" class=\"dataframe\">\n",
       "  <thead>\n",
       "    <tr style=\"text-align: right;\">\n",
       "      <th></th>\n",
       "      <th>Student_ID</th>\n",
       "      <th>CGPA</th>\n",
       "      <th>Internships</th>\n",
       "      <th>Placed</th>\n",
       "      <th>Salary (INR LPA)</th>\n",
       "    </tr>\n",
       "  </thead>\n",
       "  <tbody>\n",
       "    <tr>\n",
       "      <th>0</th>\n",
       "      <td>1</td>\n",
       "      <td>7.90</td>\n",
       "      <td>3</td>\n",
       "      <td>Yes</td>\n",
       "      <td>17.63</td>\n",
       "    </tr>\n",
       "    <tr>\n",
       "      <th>1</th>\n",
       "      <td>2</td>\n",
       "      <td>7.39</td>\n",
       "      <td>0</td>\n",
       "      <td>Yes</td>\n",
       "      <td>28.37</td>\n",
       "    </tr>\n",
       "    <tr>\n",
       "      <th>2</th>\n",
       "      <td>3</td>\n",
       "      <td>8.02</td>\n",
       "      <td>2</td>\n",
       "      <td>Yes</td>\n",
       "      <td>8.95</td>\n",
       "    </tr>\n",
       "    <tr>\n",
       "      <th>3</th>\n",
       "      <td>4</td>\n",
       "      <td>8.72</td>\n",
       "      <td>4</td>\n",
       "      <td>Yes</td>\n",
       "      <td>22.59</td>\n",
       "    </tr>\n",
       "    <tr>\n",
       "      <th>4</th>\n",
       "      <td>5</td>\n",
       "      <td>7.31</td>\n",
       "      <td>2</td>\n",
       "      <td>Yes</td>\n",
       "      <td>19.67</td>\n",
       "    </tr>\n",
       "  </tbody>\n",
       "</table>\n",
       "</div>"
      ],
      "text/plain": [
       "   Student_ID  CGPA  Internships Placed  Salary (INR LPA)\n",
       "0           1  7.90            3    Yes             17.63\n",
       "1           2  7.39            0    Yes             28.37\n",
       "2           3  8.02            2    Yes              8.95\n",
       "3           4  8.72            4    Yes             22.59\n",
       "4           5  7.31            2    Yes             19.67"
      ]
     },
     "execution_count": 6,
     "metadata": {},
     "output_type": "execute_result"
    }
   ],
   "source": [
    "# Load the dataset\n",
    "df = pd.read_csv(\"Placement.csv\")\n",
    "\n",
    "# Display the first 5 rows\n",
    "df.head()\n"
   ]
  },
  {
   "cell_type": "markdown",
   "id": "be595d40",
   "metadata": {},
   "source": [
    "## 📋 Dataset Overview\n",
    "\n",
    "Let's examine the data types, missing values, and summary statistics.\n"
   ]
  },
  {
   "cell_type": "markdown",
   "id": "24d95ed2",
   "metadata": {},
   "source": [
    "## 🎓 CGPA Distribution\n",
    "\n",
    "We visualize how CGPA is distributed among the 1000 students.\n"
   ]
  },
  {
   "cell_type": "markdown",
   "id": "68c1c819",
   "metadata": {},
   "source": []
  }
 ],
 "metadata": {
  "kernelspec": {
   "display_name": "python_eda",
   "language": "python",
   "name": "python3"
  },
  "language_info": {
   "codemirror_mode": {
    "name": "ipython",
    "version": 3
   },
   "file_extension": ".py",
   "mimetype": "text/x-python",
   "name": "python",
   "nbconvert_exporter": "python",
   "pygments_lexer": "ipython3",
   "version": "3.13.5"
  }
 },
 "nbformat": 4,
 "nbformat_minor": 5
}
